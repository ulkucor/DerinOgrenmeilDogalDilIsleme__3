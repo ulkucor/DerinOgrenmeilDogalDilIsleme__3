{
  "nbformat": 4,
  "nbformat_minor": 0,
  "metadata": {
    "colab": {
      "name": "bi-LSTM_CRF_CoNLL2003.ipynb",
      "provenance": [],
      "collapsed_sections": []
    },
    "kernelspec": {
      "name": "python3",
      "display_name": "Python 3"
    },
    "accelerator": "GPU"
  },
  "cells": [
    {
      "cell_type": "code",
      "metadata": {
        "id": "mc0KWkWwRHM2"
      },
      "source": [
        "import torch\r\n",
        "from torch import nn\r\n",
        "import time\r\n",
        "import torchtext\r\n",
        "import numpy as np\r\n",
        "\r\n",
        "import random\r\n",
        "\r\n",
        "from collections import defaultdict, Counter\r\n",
        "\r\n",
        "import matplotlib.pyplot as plt\r\n",
        "\r\n",
        "%config InlineBackend.figure_format = 'retina' \r\n",
        "plt.style.use('seaborn')"
      ],
      "execution_count": null,
      "outputs": []
    },
    {
      "cell_type": "code",
      "metadata": {
        "id": "uOw-mybJSeIi"
      },
      "source": [
        "def read_data(corpus_file, datafields):\r\n",
        "    with open(corpus_file, encoding='utf-8') as f:\r\n",
        "        examples = []\r\n",
        "        words = []\r\n",
        "        labels = []\r\n",
        "        for line in f:\r\n",
        "            line = line.strip()\r\n",
        "            if not line:\r\n",
        "                examples.append(torchtext.data.Example.fromlist([words, labels], datafields))\r\n",
        "                words = []\r\n",
        "                labels = []\r\n",
        "            else:\r\n",
        "                columns = line.split()\r\n",
        "                words.append(columns[0])\r\n",
        "                labels.append(columns[-1])\r\n",
        "        return torchtext.data.Dataset(examples, datafields)"
      ],
      "execution_count": null,
      "outputs": []
    },
    {
      "cell_type": "code",
      "metadata": {
        "id": "8MIj7yycTRkt"
      },
      "source": [
        "class RNNTagger(nn.Module):\r\n",
        "    \r\n",
        "    def __init__(self, text_field, label_field, emb_dim, rnn_size, update_pretrained=False):\r\n",
        "        super().__init__()\r\n",
        "        \r\n",
        "        voc_size = len(text_field.vocab)\r\n",
        "        self.n_labels = len(label_field.vocab)       \r\n",
        "        \r\n",
        "        # Embedding layer. If we're using pre-trained embeddings, copy them\r\n",
        "        # into our embedding module.\r\n",
        "        self.embedding = nn.Embedding(voc_size, emb_dim)\r\n",
        "        if text_field.vocab.vectors is not None:\r\n",
        "            self.embedding.weight = torch.nn.Parameter(text_field.vocab.vectors, \r\n",
        "                                                       requires_grad=update_pretrained)\r\n",
        "\r\n",
        "        # RNN layer. We're using a bidirectional GRU with one layer.\r\n",
        "        self.rnn = nn.GRU(input_size=emb_dim, hidden_size=rnn_size, \r\n",
        "                          bidirectional=True, num_layers=1)\r\n",
        "\r\n",
        "        # Output layer. As in the example last week, the input will be two times\r\n",
        "        # the RNN size since we are using a bidirectional RNN.\r\n",
        "        self.top_layer = nn.Linear(2*rnn_size, self.n_labels)\r\n",
        " \r\n",
        "        # To deal with the padding positions later, we need to know the\r\n",
        "        # encoding of the padding dummy word and the corresponding dummy output tag.\r\n",
        "        self.pad_word_id = text_field.vocab.stoi[text_field.pad_token]\r\n",
        "        self.pad_label_id = label_field.vocab.stoi[label_field.pad_token]\r\n",
        "    \r\n",
        "        # Loss function that we will use during training.\r\n",
        "        self.loss = torch.nn.CrossEntropyLoss(reduction='sum')\r\n",
        "        \r\n",
        "    def compute_outputs(self, sentences):\r\n",
        "        # The words in the documents are encoded as integers. The shape of the documents\r\n",
        "        # tensor is (max_len, n_docs), where n_docs is the number of documents in this batch,\r\n",
        "        # and max_len is the maximal length of a document in the batch.\r\n",
        "\r\n",
        "        # First look up the embeddings for all the words in the documents.\r\n",
        "        # The shape is now (max_len, n_sentences, emb_dim).        \r\n",
        "        embedded = self.embedding(sentences)\r\n",
        "\r\n",
        "        # Apply the RNN.\r\n",
        "        # The shape of the RNN output tensor is (max_len, n_sentences, 2*rnn_size).\r\n",
        "        rnn_out, _ = self.rnn(embedded)\r\n",
        "        \r\n",
        "        # Apply the linear output layer.\r\n",
        "        # The shape of the output tensor is (max_len, n_sentences, n_labels).\r\n",
        "        out = self.top_layer(rnn_out)\r\n",
        "        \r\n",
        "        # Find the positions where the token is a dummy padding token.\r\n",
        "        pad_mask = (sentences == self.pad_word_id).float()\r\n",
        "\r\n",
        "        # For these positions, we add some large number in the column corresponding\r\n",
        "        # to the dummy padding label.\r\n",
        "        out[:, :, self.pad_label_id] += pad_mask*10000\r\n",
        "\r\n",
        "        return out\r\n",
        "                \r\n",
        "    def forward(self, sentences, labels):\r\n",
        "        # As discussed above, this method first computes the predictions, and then\r\n",
        "        # the loss function.\r\n",
        "        \r\n",
        "        # Compute the outputs. The shape is (max_len, n_sentences, n_labels).\r\n",
        "        scores = self.compute_outputs(sentences)\r\n",
        "        \r\n",
        "        # Flatten the outputs and the gold-standard labels, to compute the loss.\r\n",
        "        # The input to this loss needs to be one 2-dimensional and one 1-dimensional tensor.\r\n",
        "        scores = scores.view(-1, self.n_labels)\r\n",
        "        labels = labels.view(-1)\r\n",
        "        return self.loss(scores, labels)\r\n",
        "\r\n",
        "    def predict(self, sentences):\r\n",
        "        # Compute the outputs from the linear units.\r\n",
        "        scores = self.compute_outputs(sentences)\r\n",
        "\r\n",
        "        # Select the top-scoring labels. The shape is now (max_len, n_sentences).\r\n",
        "        predicted = scores.argmax(dim=2)\r\n",
        "\r\n",
        "        # We transpose the prediction to (n_sentences, max_len), and convert it\r\n",
        "        # to a NumPy matrix.\r\n",
        "        return predicted.t().cpu().numpy()"
      ],
      "execution_count": null,
      "outputs": []
    },
    {
      "cell_type": "code",
      "metadata": {
        "colab": {
          "base_uri": "https://localhost:8080/"
        },
        "id": "iS9ixB1IUYyd",
        "outputId": "b626ec25-db5d-47ad-9001-aabdec2345ca"
      },
      "source": [
        "pip install pytorch-crf"
      ],
      "execution_count": null,
      "outputs": [
        {
          "output_type": "stream",
          "text": [
            "Collecting pytorch-crf\n",
            "  Downloading https://files.pythonhosted.org/packages/96/7d/4c4688e26ea015fc118a0327e5726e6596836abce9182d3738be8ec2e32a/pytorch_crf-0.7.2-py3-none-any.whl\n",
            "Installing collected packages: pytorch-crf\n",
            "Successfully installed pytorch-crf-0.7.2\n"
          ],
          "name": "stdout"
        }
      ]
    },
    {
      "cell_type": "code",
      "metadata": {
        "id": "0pFjV7I2T8cC"
      },
      "source": [
        "from torchcrf import CRF\r\n",
        "\r\n",
        "class RNNCRFTagger(nn.Module):\r\n",
        "    \r\n",
        "    def __init__(self, text_field, label_field, emb_dim, rnn_size, update_pretrained=False):\r\n",
        "        super().__init__()\r\n",
        "        \r\n",
        "        voc_size = len(text_field.vocab)\r\n",
        "        self.n_labels = len(label_field.vocab)       \r\n",
        "        \r\n",
        "        self.embedding = nn.Embedding(voc_size, emb_dim)\r\n",
        "        if text_field.vocab.vectors is not None:\r\n",
        "            self.embedding.weight = torch.nn.Parameter(text_field.vocab.vectors, \r\n",
        "                                                       requires_grad=update_pretrained)\r\n",
        "\r\n",
        "        self.rnn = nn.GRU(input_size=emb_dim, hidden_size=rnn_size, \r\n",
        "                          bidirectional=True, num_layers=1)\r\n",
        "\r\n",
        "        self.top_layer = nn.Linear(2*rnn_size, self.n_labels)\r\n",
        " \r\n",
        "        self.pad_word_id = text_field.vocab.stoi[text_field.pad_token]\r\n",
        "        self.pad_label_id = label_field.vocab.stoi[label_field.pad_token]\r\n",
        "    \r\n",
        "        self.crf = CRF(self.n_labels)\r\n",
        "        \r\n",
        "    def compute_outputs(self, sentences):\r\n",
        "        embedded = self.embedding(sentences)\r\n",
        "        rnn_out, _ = self.rnn(embedded)\r\n",
        "        out = self.top_layer(rnn_out)\r\n",
        "        \r\n",
        "        pad_mask = (sentences == self.pad_word_id).float()\r\n",
        "        out[:, :, self.pad_label_id] += pad_mask*10000\r\n",
        "        \r\n",
        "        return out\r\n",
        "                \r\n",
        "    def forward(self, sentences, labels):\r\n",
        "        # Compute the outputs of the lower layers, which will be used as emission\r\n",
        "        # scores for the CRF.\r\n",
        "        scores = self.compute_outputs(sentences)\r\n",
        "\r\n",
        "        # We return the loss value. The CRF returns the log likelihood, but we return \r\n",
        "        # the *negative* log likelihood as the loss value.            \r\n",
        "        # PyTorch's optimizers *minimize* the loss, while we want to *maximize* the\r\n",
        "        # log likelihood.\r\n",
        "        return -self.crf(scores, labels)\r\n",
        "            \r\n",
        "    def predict(self, sentences):\r\n",
        "        # Compute the emission scores, as above.\r\n",
        "        scores = self.compute_outputs(sentences)\r\n",
        "\r\n",
        "        # Apply the Viterbi algorithm to get the predictions. This implementation returns\r\n",
        "        # the result as a list of lists (not a tensor), corresponding to a matrix\r\n",
        "        # of shape (n_sentences, max_len).\r\n",
        "        return self.crf.decode(scores)"
      ],
      "execution_count": null,
      "outputs": []
    },
    {
      "cell_type": "code",
      "metadata": {
        "id": "fp32sDf2UeG2"
      },
      "source": [
        "# Convert a list of BIO labels, coded as integers, into spans identified by a beginning, an end, and a label.\r\n",
        "# To allow easy comparison later, we store them in a dictionary indexed by the start position.\r\n",
        "def to_spans(l_ids, voc):\r\n",
        "    spans = {}\r\n",
        "    current_lbl = None\r\n",
        "    current_start = None\r\n",
        "    for i, l_id in enumerate(l_ids):\r\n",
        "        l = voc[l_id]\r\n",
        "\r\n",
        "        if l[0] == 'B': \r\n",
        "            # Beginning of a named entity: B-something.\r\n",
        "            if current_lbl:\r\n",
        "                # If we're working on an entity, close it.\r\n",
        "                spans[current_start] = (current_lbl, i)\r\n",
        "            # Create a new entity that starts here.\r\n",
        "            current_lbl = l[2:]\r\n",
        "            current_start = i\r\n",
        "        elif l[0] == 'I':\r\n",
        "            # Continuation of an entity: I-something.\r\n",
        "            if current_lbl:\r\n",
        "                # If we have an open entity, but its label does not\r\n",
        "                # correspond to the predicted I-tag, then we close\r\n",
        "                # the open entity and create a new one.\r\n",
        "                if current_lbl != l[2:]:\r\n",
        "                    spans[current_start] = (current_lbl, i)\r\n",
        "                    current_lbl = l[2:]\r\n",
        "                    current_start = i\r\n",
        "            else:\r\n",
        "                # If we don't have an open entity but predict an I tag,\r\n",
        "                # we create a new entity starting here even though we're\r\n",
        "                # not following the format strictly.\r\n",
        "                current_lbl = l[2:]\r\n",
        "                current_start = i\r\n",
        "        else:\r\n",
        "            # Outside: O.\r\n",
        "            if current_lbl:\r\n",
        "                # If we have an open entity, we close it.\r\n",
        "                spans[current_start] = (current_lbl, i)\r\n",
        "                current_lbl = None\r\n",
        "                current_start = None\r\n",
        "    return spans\r\n",
        "\r\n",
        "# Compares two sets of spans and records the results for future aggregation.\r\n",
        "def compare(gold, pred, stats):\r\n",
        "    for start, (lbl, end) in gold.items():\r\n",
        "        stats['total']['gold'] += 1\r\n",
        "        stats[lbl]['gold'] += 1\r\n",
        "    for start, (lbl, end) in pred.items():\r\n",
        "        stats['total']['pred'] += 1\r\n",
        "        stats[lbl]['pred'] += 1\r\n",
        "    for start, (glbl, gend) in gold.items():\r\n",
        "        if start in pred:\r\n",
        "            plbl, pend = pred[start]\r\n",
        "            if glbl == plbl and gend == pend:\r\n",
        "                stats['total']['corr'] += 1\r\n",
        "                stats[glbl]['corr'] += 1\r\n",
        "\r\n",
        "# This function combines the auxiliary functions we defined above.\r\n",
        "def evaluate_iob(predicted, gold, label_field, stats):\r\n",
        "    # The gold-standard labels are assumed to be an integer tensor of shape\r\n",
        "    # (max_len, n_sentences), as returned by torchtext.\r\n",
        "    gold_cpu = gold.t().cpu().numpy()\r\n",
        "    gold_cpu = list(gold_cpu.reshape(-1))\r\n",
        "\r\n",
        "    # The predicted labels assume the format produced by pytorch-crf, so we\r\n",
        "    # assume that they have been converted into a list already.\r\n",
        "    # We just flatten the list.\r\n",
        "    pred_cpu = [l for sen in predicted for l in sen]\r\n",
        "    \r\n",
        "    # Compute spans for the gold standard and prediction.\r\n",
        "    gold_spans = to_spans(gold_cpu, label_field.vocab.itos)\r\n",
        "    pred_spans = to_spans(pred_cpu, label_field.vocab.itos)\r\n",
        "\r\n",
        "    # Finally, update the counts for correct, predicted and gold-standard spans.\r\n",
        "    compare(gold_spans, pred_spans, stats)\r\n",
        "\r\n",
        "# Computes precision, recall and F-score, given a dictionary that contains\r\n",
        "# the counts of correct, predicted and gold-standard items.\r\n",
        "def prf(stats):\r\n",
        "    if stats['pred'] == 0:\r\n",
        "        return 0, 0, 0\r\n",
        "    p = stats['corr']/stats['pred']\r\n",
        "    r = stats['corr']/stats['gold']\r\n",
        "    if p > 0 and r > 0:\r\n",
        "        f = 2*p*r/(p+r)\r\n",
        "    else:\r\n",
        "        f = 0\r\n",
        "    return p, r, f"
      ],
      "execution_count": null,
      "outputs": []
    },
    {
      "cell_type": "code",
      "metadata": {
        "colab": {
          "base_uri": "https://localhost:8080/",
          "height": 944
        },
        "id": "nwraJyLpUwXM",
        "outputId": "57a9034e-6834-4db7-97bd-7600dab1b87c"
      },
      "source": [
        "class Tagger:\r\n",
        "    \r\n",
        "    def __init__(self, lower):\r\n",
        "        self.TEXT = torchtext.data.Field(init_token='<bos>', eos_token='<eos>', sequential=True, lower=lower)\r\n",
        "        self.LABEL = torchtext.data.Field(init_token='<bos>', eos_token='<eos>', sequential=True, unk_token=None)\r\n",
        "        self.fields = [('text', self.TEXT), ('label', self.LABEL)]\r\n",
        "        self.device = 'cuda'\r\n",
        "        \r\n",
        "    def tag(self, sentences):\r\n",
        "        # This method applies the trained model to a list of sentences.\r\n",
        "        \r\n",
        "        # First, create a torchtext Dataset containing the sentences to tag.\r\n",
        "        examples = []\r\n",
        "        for sen in sentences:\r\n",
        "            labels = ['?']*len(sen) # placeholder\r\n",
        "            examples.append(torchtext.data.Example.fromlist([sen, labels], self.fields))\r\n",
        "        dataset = torchtext.data.Dataset(examples, self.fields)\r\n",
        "        \r\n",
        "        iterator = torchtext.data.Iterator(\r\n",
        "            dataset,\r\n",
        "            device=self.device,\r\n",
        "            batch_size=64,\r\n",
        "            repeat=False,\r\n",
        "            train=False,\r\n",
        "            sort=False)\r\n",
        "        \r\n",
        "        # Apply the trained model to all batches.\r\n",
        "        out = []\r\n",
        "        self.model.eval()\r\n",
        "        with torch.no_grad():\r\n",
        "            for batch in iterator:\r\n",
        "                # Call the model's predict method. This returns a list of NumPy matrix\r\n",
        "                # containing the integer-encoded tags for each sentence.\r\n",
        "                predicted = self.model.predict(batch.text)\r\n",
        "\r\n",
        "                # Convert the integer-encoded tags to tag strings.\r\n",
        "                for tokens, pred_sen in zip(sentences, predicted):\r\n",
        "                    out.append([self.LABEL.vocab.itos[pred_id] for _, pred_id in zip(tokens, pred_sen[1:])])\r\n",
        "        return out\r\n",
        "                \r\n",
        "    def train(self):\r\n",
        "        # Read training and validation data according to the predefined split.\r\n",
        "        train_examples = read_data('data/eng.train.iob', self.fields)\r\n",
        "        valid_examples = read_data('data/eng.valid.iob', self.fields)\r\n",
        "\r\n",
        "        # Count the number of words and sentences.\r\n",
        "        n_tokens_train = 0\r\n",
        "        n_sentences_train = 0\r\n",
        "        for ex in train_examples:\r\n",
        "            n_tokens_train += len(ex.text) + 2\r\n",
        "            n_sentences_train += 1\r\n",
        "        n_tokens_valid = 0       \r\n",
        "        for ex in valid_examples:\r\n",
        "            n_tokens_valid += len(ex.text)\r\n",
        "\r\n",
        "        # Load the pre-trained embeddings that come with the torchtext library.\r\n",
        "        use_pretrained = True\r\n",
        "        if use_pretrained:\r\n",
        "            print('We are using pre-trained word embeddings.')\r\n",
        "            self.TEXT.build_vocab(train_examples, vectors=\"glove.840B.300d\")\r\n",
        "        else:  \r\n",
        "            print('We are training word embeddings from scratch.')\r\n",
        "            self.TEXT.build_vocab(train_examples, max_size=5000)\r\n",
        "        self.LABEL.build_vocab(train_examples)\r\n",
        "    \r\n",
        "        # Create one of the models defined above.\r\n",
        "        #self.model = RNNTagger(self.TEXT, self.LABEL, emb_dim=300, rnn_size=128, update_pretrained=False)\r\n",
        "        self.model = RNNCRFTagger(self.TEXT, self.LABEL, emb_dim=300, rnn_size=128, update_pretrained=False)\r\n",
        "    \r\n",
        "        self.model.to(self.device)\r\n",
        "    \r\n",
        "        batch_size = 1024\r\n",
        "        n_batches = np.ceil(n_sentences_train / batch_size)\r\n",
        "\r\n",
        "        mean_n_tokens = n_tokens_train / n_batches\r\n",
        "\r\n",
        "        train_iterator = torchtext.data.BucketIterator(\r\n",
        "            train_examples,\r\n",
        "            device=self.device,\r\n",
        "            batch_size=batch_size,\r\n",
        "            sort_key=lambda x: len(x.text),\r\n",
        "            repeat=False,\r\n",
        "            train=True,\r\n",
        "            sort=True)\r\n",
        "\r\n",
        "        valid_iterator = torchtext.data.BucketIterator(\r\n",
        "            valid_examples,\r\n",
        "            device=self.device,\r\n",
        "            batch_size=64,\r\n",
        "            sort_key=lambda x: len(x.text),\r\n",
        "            repeat=False,\r\n",
        "            train=False,\r\n",
        "            sort=True)\r\n",
        "    \r\n",
        "        train_batches = list(train_iterator)\r\n",
        "        valid_batches = list(valid_iterator)\r\n",
        "\r\n",
        "        optimizer = torch.optim.Adam(self.model.parameters(), lr=0.01, weight_decay=1e-5)\r\n",
        "\r\n",
        "        n_labels = len(self.LABEL.vocab)\r\n",
        "\r\n",
        "        history = defaultdict(list)    \r\n",
        "        \r\n",
        "        n_epochs = 25\r\n",
        "        \r\n",
        "        for i in range(1, n_epochs + 1):\r\n",
        "\r\n",
        "            t0 = time.time()\r\n",
        "\r\n",
        "            loss_sum = 0\r\n",
        "\r\n",
        "            self.model.train()\r\n",
        "            for batch in train_batches:\r\n",
        "                \r\n",
        "                # Compute the output and loss.\r\n",
        "                loss = self.model(batch.text, batch.label) / mean_n_tokens\r\n",
        "                \r\n",
        "                optimizer.zero_grad()            \r\n",
        "                loss.backward()\r\n",
        "                optimizer.step()\r\n",
        "                loss_sum += loss.item()\r\n",
        "\r\n",
        "            train_loss = loss_sum / n_batches\r\n",
        "            history['train_loss'].append(train_loss)\r\n",
        "\r\n",
        "            # Evaluate on the validation set.\r\n",
        "            if i % 1 == 0:\r\n",
        "                stats = defaultdict(Counter)\r\n",
        "\r\n",
        "                self.model.eval()\r\n",
        "                with torch.no_grad():\r\n",
        "                    for batch in valid_batches:\r\n",
        "                        # Predict the model's output on a batch.\r\n",
        "                        predicted = self.model.predict(batch.text)                   \r\n",
        "                        # Update the evaluation statistics.\r\n",
        "                        evaluate_iob(predicted, batch.label, self.LABEL, stats)\r\n",
        "            \r\n",
        "                # Compute the overall F-score for the validation set.\r\n",
        "                _, _, val_f1 = prf(stats['total'])\r\n",
        "                \r\n",
        "                history['val_f1'].append(val_f1)\r\n",
        "            \r\n",
        "                t1 = time.time()\r\n",
        "                print(f'Epoch {i}: train loss = {train_loss:.4f}, val f1: {val_f1:.4f}, time = {t1-t0:.4f}')\r\n",
        "           \r\n",
        "        # After the final evaluation, we print more detailed evaluation statistics, including\r\n",
        "        # precision, recall, and F-scores for the different types of named entities.\r\n",
        "        print()\r\n",
        "        print('Final evaluation on the validation set:')\r\n",
        "        p, r, f1 = prf(stats['total'])\r\n",
        "        print(f'Overall: P = {p:.4f}, R = {r:.4f}, F1 = {f1:.4f}')\r\n",
        "        for label in stats:\r\n",
        "            if label != 'total':\r\n",
        "                p, r, f1 = prf(stats[label])\r\n",
        "                print(f'{label:4s}: P = {p:.4f}, R = {r:.4f}, F1 = {f1:.4f}')\r\n",
        "        \r\n",
        "        plt.plot(history['train_loss'])\r\n",
        "        plt.plot(history['val_f1'])\r\n",
        "        plt.legend(['training loss', 'validation F-score'])\r\n",
        "\r\n",
        "tagger = Tagger(lower=False)\r\n",
        "tagger.train()"
      ],
      "execution_count": null,
      "outputs": [
        {
          "output_type": "stream",
          "text": [
            "\r.vector_cache/glove.840B.300d.zip: 0.00B [00:00, ?B/s]"
          ],
          "name": "stderr"
        },
        {
          "output_type": "stream",
          "text": [
            "We are using pre-trained word embeddings.\n"
          ],
          "name": "stdout"
        },
        {
          "output_type": "stream",
          "text": [
            ".vector_cache/glove.840B.300d.zip: 2.18GB [16:58, 2.14MB/s]                            \n",
            "100%|█████████▉| 2195392/2196017 [05:00<00:00, 7809.12it/s]"
          ],
          "name": "stderr"
        },
        {
          "output_type": "stream",
          "text": [
            "Epoch 1: train loss = 0.4689, val f1: 0.6290, time = 3.8796\n",
            "Epoch 2: train loss = 0.1944, val f1: 0.7136, time = 3.3289\n",
            "Epoch 3: train loss = 0.1260, val f1: 0.7644, time = 3.3798\n",
            "Epoch 4: train loss = 0.0930, val f1: 0.7712, time = 3.3130\n",
            "Epoch 5: train loss = 0.0824, val f1: 0.7880, time = 3.4266\n",
            "Epoch 6: train loss = 0.0763, val f1: 0.7207, time = 3.2743\n",
            "Epoch 7: train loss = 0.0712, val f1: 0.7850, time = 3.2389\n",
            "Epoch 8: train loss = 0.0634, val f1: 0.8154, time = 3.3193\n",
            "Epoch 9: train loss = 0.0568, val f1: 0.7965, time = 3.4712\n",
            "Epoch 10: train loss = 0.0475, val f1: 0.8201, time = 3.4187\n",
            "Epoch 11: train loss = 0.0435, val f1: 0.8368, time = 3.5256\n",
            "Epoch 12: train loss = 0.0329, val f1: 0.8426, time = 3.2245\n",
            "Epoch 13: train loss = 0.0311, val f1: 0.8446, time = 3.3187\n",
            "Epoch 14: train loss = 0.0258, val f1: 0.8441, time = 3.5745\n",
            "Epoch 15: train loss = 0.0229, val f1: 0.8455, time = 3.2486\n",
            "Epoch 16: train loss = 0.0219, val f1: 0.8452, time = 3.3429\n",
            "Epoch 17: train loss = 0.0193, val f1: 0.8544, time = 3.4701\n",
            "Epoch 18: train loss = 0.0204, val f1: 0.8620, time = 3.3457\n",
            "Epoch 19: train loss = 0.0170, val f1: 0.8522, time = 3.4959\n",
            "Epoch 20: train loss = 0.0137, val f1: 0.8554, time = 3.2302\n",
            "Epoch 21: train loss = 0.0126, val f1: 0.8551, time = 3.5500\n",
            "Epoch 22: train loss = 0.0114, val f1: 0.8304, time = 3.6859\n",
            "Epoch 23: train loss = 0.0123, val f1: 0.8494, time = 3.5878\n",
            "Epoch 24: train loss = 0.0151, val f1: 0.8218, time = 3.3152\n",
            "Epoch 25: train loss = 0.0147, val f1: 0.8343, time = 3.7681\n",
            "\n",
            "Final evaluation on the validation set:\n",
            "Overall: P = 0.8073, R = 0.8632, F1 = 0.8343\n",
            "LOC : P = 0.9349, R = 0.9069, F1 = 0.9207\n",
            "ORG : P = 0.8710, R = 0.7502, F1 = 0.8061\n",
            "MISC: P = 0.6566, R = 0.8254, F1 = 0.7314\n",
            "PER : P = 0.7514, R = 0.9207, F1 = 0.8275\n"
          ],
          "name": "stdout"
        },
        {
          "output_type": "display_data",
          "data": {
            "image/png": "[encoded data removed]",
            "text/plain": [
              "<Figure size 576x396 with 1 Axes>"
            ]
          },
          "metadata": {
            "tags": [],
            "image/png": {
              "width": 483,
              "height": 329
            }
          }
        }
      ]
    },
    {
      "cell_type": "code",
      "metadata": {
        "id": "8INYYMeahliq"
      },
      "source": [
        "def print_tags(sentence):\r\n",
        "    tokens = sentence.split()\r\n",
        "    tags = tagger.tag([tokens])[0]\r\n",
        "    for token, tag in zip(tokens, tags):\r\n",
        "        print(f'{token:12s}{tag}')"
      ],
      "execution_count": null,
      "outputs": []
    },
    {
      "cell_type": "code",
      "metadata": {
        "colab": {
          "base_uri": "https://localhost:8080/"
        },
        "id": "I3aZJ5AFhp-b",
        "outputId": "cc4a2a33-ce94-4db6-f53a-6d7754492219"
      },
      "source": [
        "print_tags('John Johnson was born in Moscow , lives in Gothenburg , and works for Chalmers Technical University and the University of Gothenburg .')"
      ],
      "execution_count": null,
      "outputs": [
        {
          "output_type": "stream",
          "text": [
            "John        I-PER\n",
            "Johnson     I-PER\n",
            "was         O\n",
            "born        O\n",
            "in          O\n",
            "Moscow      I-LOC\n",
            ",           O\n",
            "lives       O\n",
            "in          O\n",
            "Gothenburg  I-LOC\n",
            ",           O\n",
            "and         O\n",
            "works       O\n",
            "for         O\n",
            "Chalmers    I-ORG\n",
            "Technical   I-ORG\n",
            "University  I-ORG\n",
            "and         O\n",
            "the         O\n",
            "University  I-ORG\n",
            "of          O\n",
            "Gothenburg  I-LOC\n",
            ".           O\n"
          ],
          "name": "stdout"
        }
      ]
    },
    {
      "cell_type": "code",
      "metadata": {
        "colab": {
          "base_uri": "https://localhost:8080/"
        },
        "id": "pIaDeA86hwMV",
        "outputId": "6a1292cb-d3b1-4362-9b4c-895320997d73"
      },
      "source": [
        "print_tags('John XYZXYZABC was born in XYZABC .')"
      ],
      "execution_count": null,
      "outputs": [
        {
          "output_type": "stream",
          "text": [
            "John        I-PER\n",
            "XYZXYZABC   I-PER\n",
            "was         O\n",
            "born        O\n",
            "in          O\n",
            "XYZABC      I-LOC\n",
            ".           O\n"
          ],
          "name": "stdout"
        }
      ]
    },
    {
      "cell_type": "code",
      "metadata": {
        "colab": {
          "base_uri": "https://localhost:8080/"
        },
        "id": "yV4ke0GEh0YN",
        "outputId": "bd8e3e61-b4c5-4f5d-a3f7-5322d2f5b80d"
      },
      "source": [
        "print_tags('Paris Hilton lives in New York .')"
      ],
      "execution_count": null,
      "outputs": [
        {
          "output_type": "stream",
          "text": [
            "Paris       I-LOC\n",
            "Hilton      O\n",
            "lives       O\n",
            "in          O\n",
            "New         I-LOC\n",
            "York        I-LOC\n",
            ".           O\n"
          ],
          "name": "stdout"
        }
      ]
    },
    {
      "cell_type": "code",
      "metadata": {
        "colab": {
          "base_uri": "https://localhost:8080/"
        },
        "id": "Xjvbe_cHh3zw",
        "outputId": "75ac15d9-be56-47ca-fa35-958683e97d89"
      },
      "source": [
        "print_tags('New York Stock Exchange is in New York .')"
      ],
      "execution_count": null,
      "outputs": [
        {
          "output_type": "stream",
          "text": [
            "New         I-ORG\n",
            "York        I-ORG\n",
            "Stock       I-ORG\n",
            "Exchange    I-ORG\n",
            "is          O\n",
            "in          O\n",
            "New         I-LOC\n",
            "York        I-LOC\n",
            ".           O\n"
          ],
          "name": "stdout"
        }
      ]
    },
    {
      "cell_type": "markdown",
      "metadata": {
        "id": "3VH6Q3L4oon8"
      },
      "source": [
        "Reference: http://www.cse.chalmers.se/~richajo/nlp2019/l6/Sequence%20tagging%20example.html\r\n"
      ]
    }
  ]
}